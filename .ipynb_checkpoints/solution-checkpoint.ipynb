{
 "cells": [
  {
   "cell_type": "markdown",
   "metadata": {},
   "source": [
    "# Project Solution"
   ]
  },
  {
   "cell_type": "code",
   "execution_count": 1,
   "metadata": {},
   "outputs": [
    {
     "name": "stderr",
     "output_type": "stream",
     "text": [
      "Using TensorFlow backend.\n"
     ]
    }
   ],
   "source": [
    "import numpy as np\n",
    "import cv2\n",
    "import matplotlib\n",
    "import matplotlib.pyplot as plt\n",
    "from keras.models import Sequential\n",
    "from keras.layers.core import Dense,Activation\n",
    "from keras.layers import MaxPooling2D, Flatten\n",
    "from keras.layers.convolutional import Conv2D\n",
    "from keras.optimizers import RMSprop\n",
    "from keras.preprocessing.image import ImageDataGenerator\n",
    "import os"
   ]
  },
  {
   "cell_type": "code",
   "execution_count": 2,
   "metadata": {
    "collapsed": true
   },
   "outputs": [],
   "source": [
    "%matplotlib inline \n",
    "matplotlib.rcParams['figure.figsize'] = 10,10"
   ]
  },
  {
   "cell_type": "code",
   "execution_count": 3,
   "metadata": {
    "collapsed": true
   },
   "outputs": [],
   "source": [
    "def load_image(path, gray = True):\n",
    "    img = cv2.imread(path)  \n",
    "    if gray :\n",
    "        return  cv2.cvtColor(img, cv2.COLOR_BGR2GRAY)\n",
    "    \n",
    "    return cv2.cvtColor(img, cv2.COLOR_BGR2RGB)\n",
    "\n",
    "def display_image(image):\n",
    "    plt.imshow(image)"
   ]
  },
  {
   "cell_type": "code",
   "execution_count": 4,
   "metadata": {
    "collapsed": true
   },
   "outputs": [],
   "source": [
    "face_cascade = cv2.CascadeClassifier('haarcascade_frontalface_default.xml')"
   ]
  },
  {
   "cell_type": "code",
   "execution_count": 5,
   "metadata": {
    "collapsed": true
   },
   "outputs": [],
   "source": [
    "def mark_all_faces(image, faces):\n",
    "    for (x,y,w,h) in faces:\n",
    "        cv2.rectangle(image,(x,y),(x+w,y+h),(255,0,0),1)\n",
    "    display_image(image)"
   ]
  },
  {
   "cell_type": "code",
   "execution_count": 6,
   "metadata": {
    "collapsed": true
   },
   "outputs": [],
   "source": [
    "def crop_face_from_images(images):\n",
    "    face_images = []\n",
    "    for img in images:\n",
    "        faces = face_cascade.detectMultiScale(img)\n",
    "        if (len(faces) != 0):\n",
    "            (x,y,w,h) = faces[0]\n",
    "            face_images.append(cv2.resize(img[y:y+h,x:x+w],(64,64)))\n",
    "    return face_images\n",
    "\n",
    "def find_all_faces(image):\n",
    "    face_images = []\n",
    "    faces = face_cascade.detectMultiScale(cv2.cvtColor(image.copy(), cv2.COLOR_RGB2GRAY))\n",
    "    for (x,y,w,h) in faces:\n",
    "        face_images.append(image[y:y+h,x:x+w])\n",
    "    \n",
    "    return face_images , faces"
   ]
  },
  {
   "cell_type": "code",
   "execution_count": 7,
   "metadata": {
    "collapsed": true
   },
   "outputs": [],
   "source": [
    "def create_nn():\n",
    "    ann = Sequential()\n",
    "    ann.add(Conv2D(128, (3,3), activation='relu', input_shape=[64, 64, 3], padding='same'))\n",
    "    ann.add(MaxPooling2D(pool_size=(2, 2), strides=(2,2)))\n",
    "    ann.add(Conv2D(128, (3, 3), activation = 'relu', padding='same'))\n",
    "    ann.add(MaxPooling2D(pool_size=(2, 2), strides=(2,2)))\n",
    "    ann.add(Conv2D(128, (3, 3), activation = 'relu', padding='same'))\n",
    "    ann.add(MaxPooling2D(pool_size=(2, 2), strides=(2,2)))\n",
    "    ann.add(Flatten())\n",
    "    ann.add(Dense(256, activation='relu'))\n",
    "    ann.add(Dense(128, activation='relu'))\n",
    "    ann.add(Dense(45, activation='softmax'))\n",
    "    return ann"
   ]
  },
  {
   "cell_type": "code",
   "execution_count": 8,
   "metadata": {
    "collapsed": true
   },
   "outputs": [],
   "source": [
    "def load_all_image_from_path(path):\n",
    "    images = []\n",
    "    \n",
    "    for img in os.listdir(path):\n",
    "            img_path = os.path.join(path, img)\n",
    "            img = load_image(img_path, False)   \n",
    "            images.append(img)\n",
    "        \n",
    "    return images"
   ]
  },
  {
   "cell_type": "code",
   "execution_count": 10,
   "metadata": {
    "collapsed": true
   },
   "outputs": [],
   "source": [
    "num_of_neg_people = 44\n",
    "\n",
    "def prepare_pos_inputs(path):\n",
    "    images = load_all_image_from_path(path)\n",
    "    crop_images = crop_face_from_images(images)\n",
    "    print(len(crop_images))\n",
    "    print(len(images))\n",
    "    x_inputs = [];\n",
    "    for img in crop_images:\n",
    "        img = cv2.resize(img,(64,64))\n",
    "        x_inputs.append(img)\n",
    "    return x_inputs\n",
    "\n",
    "def prepare_neg_inputs(path):\n",
    "    images = []\n",
    "    outputs = []\n",
    "\n",
    "    for index, img_sub_path in enumerate(os.listdir(path), start = 1):\n",
    "        for  img in os.listdir(os.path.join(path,img_sub_path)):\n",
    "            img_path = os.path.join(path, img_sub_path, img)\n",
    "            img = load_image(img_path, False)  \n",
    "            face_image = crop_face_from_images([img])\n",
    "            if face_image:\n",
    "                images = images + face_image\n",
    "                out = np.zeros(num_of_neg_people + 1)\n",
    "                out[index] = 1\n",
    "                outputs.append(out)\n",
    "        \n",
    "    return images, outputs;  \n",
    "\n",
    "def prepare_outputs(num_of_inputs, positive = True):\n",
    "    prepare_outputs = []\n",
    "    for index in range(num_of_inputs):\n",
    "        output = np.zeros(45)\n",
    "        output[0] = 1\n",
    "        prepare_outputs.append(output)\n",
    "    return prepare_outputs"
   ]
  },
  {
   "cell_type": "code",
   "execution_count": null,
   "metadata": {},
   "outputs": [],
   "source": [
    "input_train_pos = prepare_pos_inputs('train_set_pos')\n",
    "output_train_pos = prepare_outputs(len(input_train_pos))\n",
    "input_train_neg, output_train_neg = prepare_neg_inputs('train_set_neg')\n",
    "X_train = np.array(input_train_pos + input_train_neg, np.float32) \n",
    "Y_train = np.array(output_train_pos + output_train_neg, np.float32)\n",
    "\n",
    "train_datagen = ImageDataGenerator(rescale = 1./255,\n",
    "shear_range = 0.2,\n",
    "zoom_range = 0.2,\n",
    "rotation_range=10,\n",
    "width_shift_range=0.1,\n",
    "height_shift_range=0.1,\n",
    "horizontal_flip = True)\n",
    "\n",
    "train_datagen.fit(X_train)\n",
    "train_set = train_datagen.flow(X_train, Y_train, batch_size=16)"
   ]
  },
  {
   "cell_type": "code",
   "execution_count": 12,
   "metadata": {
    "collapsed": true
   },
   "outputs": [],
   "source": [
    "nn = create_nn()\n",
    "rmspr = RMSprop(lr=0.001)\n",
    "nn.compile(loss='categorical_crossentropy', optimizer=rmspr, metrics=['accuracy'])"
   ]
  },
  {
   "cell_type": "code",
   "execution_count": null,
   "metadata": {
    "scrolled": true
   },
   "outputs": [],
   "source": [
    "nn.fit_generator(train_set, epochs = 500, verbose = 1)"
   ]
  },
  {
   "cell_type": "code",
   "execution_count": null,
   "metadata": {},
   "outputs": [],
   "source": [
    "test_image = load_image('picture_to_check.jpg', False)\n",
    "\n",
    "faces_images , faces = find_all_faces(test_image)\n",
    "results = []\n",
    "\n",
    "for img in faces_images:\n",
    "    img = cv2.resize(img,(64,64))\n",
    "    arr = np.array([img])\n",
    "    results.append(nn.predict(arr))\n",
    "\n",
    "index_of_person = -1\n",
    "for index, single_result in enumerate(results):\n",
    "    if single_result[0][0] == 1:\n",
    "        index_of_person = index\n",
    "\n",
    "if index_of_person != -1:\n",
    "    print('The person is on the photo!')\n",
    "    display_image(faces_images[index_of_person])\n",
    "else:\n",
    "    print('The person is not on the photo')"
   ]
  },
  {
   "cell_type": "code",
   "execution_count": null,
   "metadata": {
    "collapsed": true
   },
   "outputs": [],
   "source": []
  }
 ],
 "metadata": {
  "kernelspec": {
   "display_name": "Python 3",
   "language": "python",
   "name": "python3"
  },
  "language_info": {
   "codemirror_mode": {
    "name": "ipython",
    "version": 3
   },
   "file_extension": ".py",
   "mimetype": "text/x-python",
   "name": "python",
   "nbconvert_exporter": "python",
   "pygments_lexer": "ipython3",
   "version": "3.6.6"
  }
 },
 "nbformat": 4,
 "nbformat_minor": 2
}
